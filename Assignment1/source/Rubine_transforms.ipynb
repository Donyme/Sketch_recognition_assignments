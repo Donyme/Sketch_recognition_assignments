{
 "cells": [
  {
   "cell_type": "markdown",
   "metadata": {},
   "source": [
    "# Implementation of 13 Rubine transforms"
   ]
  },
  {
   "cell_type": "code",
   "execution_count": 100,
   "metadata": {},
   "outputs": [],
   "source": [
    "import os\n",
    "import pandas as pd\n",
    "import math"
   ]
  },
  {
   "cell_type": "markdown",
   "metadata": {},
   "source": [
    "1st Rubine Transform (Cosine of Initial Angle)"
   ]
  },
  {
   "cell_type": "code",
   "execution_count": 101,
   "metadata": {},
   "outputs": [],
   "source": [
    "def f01(df):\n",
    "    x0, x2 = df.loc[0, 'x'], df.loc[2, \"x\"]\n",
    "    y0, y2 = df.loc[0, 'y'], df.loc[2, \"y\"]\n",
    "\n",
    "    cos_a = (x2 - x0)/ math.sqrt(pow(y2-y0, 2) + pow(x2-x0, 2))\n",
    "    return cos_a"
   ]
  },
  {
   "cell_type": "markdown",
   "metadata": {},
   "source": [
    "2nd Rubine Transform (Sine of Initial Angle)"
   ]
  },
  {
   "cell_type": "code",
   "execution_count": 102,
   "metadata": {},
   "outputs": [],
   "source": [
    "def f02(df):\n",
    "    x0, x2 = df.loc[0, 'x'], df.loc[2, \"x\"]\n",
    "    y0, y2 = df.loc[0, 'y'], df.loc[2, \"y\"]\n",
    "\n",
    "    sin_a = (y2 - y0)/ math.sqrt(pow(y2-y0, 2) + pow(x2-x0, 2))\n",
    "    return sin_a"
   ]
  },
  {
   "cell_type": "markdown",
   "metadata": {},
   "source": [
    "3rd Rubine Transform (Length of diagonal of Bounding box )"
   ]
  },
  {
   "cell_type": "code",
   "execution_count": 103,
   "metadata": {},
   "outputs": [],
   "source": [
    "def f03(df):\n",
    "    xmin, xmax = df[\"x\"].min(), df[\"x\"].max()\n",
    "    ymin, ymax = df[\"y\"].min(), df[\"y\"].max()\n",
    "    bounding_box_diagonal_dist = math.sqrt(pow(xmin-xmax, 2) + pow(ymin-ymax, 2))\n",
    "    return bounding_box_diagonal_dist"
   ]
  },
  {
   "cell_type": "markdown",
   "metadata": {},
   "source": [
    "4th Rubine Transform (Angle of Bounding box)"
   ]
  },
  {
   "cell_type": "code",
   "execution_count": 104,
   "metadata": {},
   "outputs": [],
   "source": [
    "def f04(df):\n",
    "    xmin, xmax = df[\"x\"].min(), df[\"x\"].max()\n",
    "    ymin, ymax = df[\"y\"].min(), df[\"y\"].max()\n",
    "    bounding_box_angle = math.atan2(ymax-ymin, xmax-xmin)\n",
    "    return bounding_box_angle"
   ]
  },
  {
   "cell_type": "markdown",
   "metadata": {},
   "source": [
    "5th Rubine Transform (Distance between end points)"
   ]
  },
  {
   "cell_type": "code",
   "execution_count": 105,
   "metadata": {},
   "outputs": [],
   "source": [
    "def f05(df):\n",
    "    n = df.shape[0]\n",
    "    x0, xn_1 = df.loc[0, \"x\"], df.loc[n-1, \"x\"]\n",
    "    y0, yn_1 = df.loc[0, \"y\"], df.loc[n-1, \"y\"]\n",
    "\n",
    "    endpoint_distance = math.sqrt(pow(xn_1-x0, 2) + pow(yn_1-y0, 2))\n",
    "    return endpoint_distance"
   ]
  },
  {
   "cell_type": "markdown",
   "metadata": {},
   "source": [
    "6th Rubine Transform (Cosine of angle between endpoints)"
   ]
  },
  {
   "cell_type": "code",
   "execution_count": 106,
   "metadata": {},
   "outputs": [],
   "source": [
    "def f06(df):\n",
    "    n = df.shape[0]\n",
    "    x0, xn_1 = df.loc[0, \"x\"], df.loc[n-1, \"x\"]\n",
    "\n",
    "    cos_angle_bw_endpoints = (xn_1 - x0) / (f05(df))\n",
    "    return cos_angle_bw_endpoints"
   ]
  },
  {
   "cell_type": "markdown",
   "metadata": {},
   "source": [
    "7th Rubine Transform (Sine of angle between endpoints)"
   ]
  },
  {
   "cell_type": "code",
   "execution_count": 107,
   "metadata": {},
   "outputs": [],
   "source": [
    "def f07(df):\n",
    "    n = df.shape[0]\n",
    "    y0, yn_1 = df.loc[0, \"y\"], df.loc[n-1, \"y\"]\n",
    "\n",
    "    cos_angle_bw_endpoints = (yn_1 - y0) / (f05(df))\n",
    "    return cos_angle_bw_endpoints"
   ]
  },
  {
   "cell_type": "markdown",
   "metadata": {},
   "source": [
    "8th Rubine Transform (Stroke Length)"
   ]
  },
  {
   "cell_type": "code",
   "execution_count": 108,
   "metadata": {},
   "outputs": [],
   "source": [
    "def f08(df):\n",
    "    n = df.shape[0]\n",
    "    stroke_length = 0\n",
    "    for i in range(0, n-1):\n",
    "        x0, x1 = df.loc[i, \"x\"], df.loc[i+1, \"x\"]\n",
    "        y0, y1 = df.loc[i, \"y\"], df.loc[i+1, \"y\"]\n",
    "        stroke_length += math.sqrt(pow(x1-x0, 2) + pow(y1-y0, 2))\n",
    "\n",
    "    return stroke_length"
   ]
  },
  {
   "cell_type": "markdown",
   "metadata": {},
   "source": [
    "9th Rubine Transform (Total Relative Rotation)"
   ]
  },
  {
   "cell_type": "code",
   "execution_count": 109,
   "metadata": {},
   "outputs": [],
   "source": [
    "def f09(df):\n",
    "    n = df.shape[0]\n",
    "    total_angle = 0\n",
    "    for i in range(0, n-2):\n",
    "        x0, x1, x2 = df.loc[i, \"x\"], df.loc[i+1, \"x\"], df.loc[i+2, \"x\"]\n",
    "        y0, y1, y2 = df.loc[i, \"y\"], df.loc[i+1, \"y\"], df.loc[i+2, \"y\"]\n",
    "\n",
    "        dx0, dx1 = (x1 - x0), (x2 - x1)\n",
    "        dy0, dy1 = (y1 - y0), (y2 - y1)\n",
    "\n",
    "        d_theta = math.atan2((dx1*dy0 - dx0*dy1), (dx1*dx0 + dy1*dy0))\n",
    "        total_angle += d_theta\n",
    "\n",
    "    return total_angle"
   ]
  },
  {
   "cell_type": "markdown",
   "metadata": {},
   "source": [
    "10th Rubine Transform (Total Absolute Rotation)"
   ]
  },
  {
   "cell_type": "code",
   "execution_count": 110,
   "metadata": {},
   "outputs": [],
   "source": [
    "def f10(df):\n",
    "    n = df.shape[0]\n",
    "    total_absolute_angle = 0\n",
    "    for i in range(0, n-2):\n",
    "        x0, x1, x2 = df.loc[i, \"x\"], df.loc[i+1, \"x\"], df.loc[i+2, \"x\"]\n",
    "        y0, y1, y2 = df.loc[i, \"y\"], df.loc[i+1, \"y\"], df.loc[i+2, \"y\"]\n",
    "\n",
    "        dx0, dx1 = (x1 - x0), (x2 - x1)\n",
    "        dy0, dy1 = (y1 - y0), (y2 - y1)\n",
    "\n",
    "        d_theta = math.atan2((dx1*dy0 - dx0*dy1), (dx1*dx0 + dy1*dy0))\n",
    "        total_absolute_angle += abs(d_theta)\n",
    "\n",
    "    return total_absolute_angle"
   ]
  },
  {
   "cell_type": "markdown",
   "metadata": {},
   "source": [
    "11th Rubine Transform (Total Squared Rotation/ Sharpness)"
   ]
  },
  {
   "cell_type": "code",
   "execution_count": 111,
   "metadata": {},
   "outputs": [],
   "source": [
    "def f11(df):\n",
    "    n = df.shape[0]\n",
    "    total_squared_angle = 0\n",
    "    for i in range(0, n-2):\n",
    "        x0, x1, x2 = df.loc[i, \"x\"], df.loc[i+1, \"x\"], df.loc[i+2, \"x\"]\n",
    "        y0, y1, y2 = df.loc[i, \"y\"], df.loc[i+1, \"y\"], df.loc[i+2, \"y\"]\n",
    "\n",
    "        dx0, dx1 = (x1 - x0), (x2 - x1)\n",
    "        dy0, dy1 = (y1 - y0), (y2 - y1)\n",
    "\n",
    "        d_theta = math.atan2((dx1*dy0 - dx0*dy1), (dx1*dx0 + dy1*dy0))\n",
    "        total_squared_angle += pow(d_theta, 2)\n",
    "\n",
    "    return total_squared_angle"
   ]
  },
  {
   "cell_type": "markdown",
   "metadata": {},
   "source": [
    "12th Rubine Transform (Max Speed Squared)"
   ]
  },
  {
   "cell_type": "code",
   "execution_count": 112,
   "metadata": {},
   "outputs": [],
   "source": [
    "def f12(df):\n",
    "    n = df.shape[0]\n",
    "    max_squared_speed = 0\n",
    "    for i in range(0, n-1):\n",
    "        x0, x1 = df.loc[i, \"x\"], df.loc[i+1, \"x\"]\n",
    "        y0, y1 = df.loc[i, \"y\"], df.loc[i+1, \"y\"]\n",
    "        t0, t1 = df.loc[i, \"time\"], df.loc[i+1, \"time\"]\n",
    "        dx = x1 - x0\n",
    "        dy = y1 - y0\n",
    "        tx = t1 - t0\n",
    "        if tx == 0:\n",
    "            continue\n",
    "        max_squared_speed = max(max_squared_speed, (pow(dx, 2)+pow(dy, 2))/(pow(tx, 2)))\n",
    "    return max_squared_speed"
   ]
  },
  {
   "cell_type": "markdown",
   "metadata": {},
   "source": [
    "13th Rubine Transform (Total Duration)"
   ]
  },
  {
   "cell_type": "code",
   "execution_count": 113,
   "metadata": {},
   "outputs": [],
   "source": [
    "def f13(df):\n",
    "    n = df.shape[0]\n",
    "    t0, tn_1 = df.loc[0, \"time\"], df.loc[n-1, \"time\"]\n",
    "\n",
    "    total_duration = tn_1 - t0\n",
    "    return total_duration"
   ]
  },
  {
   "cell_type": "markdown",
   "metadata": {},
   "source": [
    "Unit testing"
   ]
  },
  {
   "cell_type": "code",
   "execution_count": 114,
   "metadata": {},
   "outputs": [
    {
     "name": "stdout",
     "output_type": "stream",
     "text": [
      "-0.8982167220477765\n",
      "0.4395528639808268\n",
      "271.7646040234085\n",
      "0.8270407424960368\n",
      "115.8792474949678\n",
      "-0.3624462611549484\n",
      "0.9320046715412958\n",
      "610.442150504911\n",
      "6.283185307179585\n",
      "9.42477796076938\n",
      "4.773550034008046\n",
      "2.7578125\n",
      "813\n"
     ]
    }
   ],
   "source": [
    "\n",
    "df = pd.read_csv(\"../data/sample-csv/shape_1.csv\")\n",
    "\n",
    "print(f01(df))\n",
    "print(f02(df))\n",
    "print(f03(df))\n",
    "print(f04(df))\n",
    "print(f05(df))\n",
    "print(f06(df))\n",
    "print(f07(df))\n",
    "print(f08(df))\n",
    "print(f09(df))\n",
    "print(f10(df))\n",
    "print(f11(df))\n",
    "print(f12(df))\n",
    "print(f13(df))"
   ]
  },
  {
   "cell_type": "markdown",
   "metadata": {},
   "source": [
    "Sample Integration Testing"
   ]
  },
  {
   "cell_type": "code",
   "execution_count": 115,
   "metadata": {},
   "outputs": [],
   "source": [
    "directory = \"../data/sample-csv\"\n",
    "df_out = pd.DataFrame(columns = [\"sketch\", \"f01\", \"f02\", \"f03\", \"f04\", \"f05\", \"f06\", \"f07\", \"f08\", \"f09\", \"f10\", \"f11\", \"f12\", \"f13\"])\n",
    "for file in os.listdir(directory):\n",
    "    f = os.path.join(directory, file)\n",
    "    df = pd.read_csv(f)\n",
    "    df_file = {\"sketch\": file[:-4],\"f01\": f01(df), \"f02\": f02(df), \"f03\": f03(df), \"f04\": f04(df), \"f05\": f05(df), \"f06\": f06(df), \"f07\": f07(df), \"f08\": f08(df), \"f09\": f09(df), \"f10\": f10(df), \"f11\": f11(df), \"f12\": f12(df), \"f13\": f13(df)}\n",
    "    df_out = df_out.append(df_file, ignore_index=True)\n",
    "    \n",
    "df_out = df_out.sort_values(by=[\"sketch\"])\n",
    "df_out.to_csv(\"../results/sample_result.csv\", index=False)"
   ]
  },
  {
   "cell_type": "markdown",
   "metadata": {},
   "source": [
    "Final Results"
   ]
  },
  {
   "cell_type": "code",
   "execution_count": 116,
   "metadata": {},
   "outputs": [],
   "source": [
    "directory = \"../data/letters-csv\"\n",
    "df_out = pd.DataFrame(columns = [\"sketch\", \"f01\", \"f02\", \"f03\", \"f04\", \"f05\", \"f06\", \"f07\", \"f08\", \"f09\", \"f10\", \"f11\", \"f12\", \"f13\"])\n",
    "for subdir, dirs, files in os.walk(directory):\n",
    "    for f in files:\n",
    "        f_path = os.path.join(subdir, f)\n",
    "        if not f_path.endswith(\".csv\") or os.path.exists(f_path) == False:\n",
    "            continue\n",
    "        df = pd.read_csv(f_path)\n",
    "        df_file = {\"sketch\": f[:-4],\"f01\": f01(df), \"f02\": f02(df), \"f03\": f03(df), \"f04\": f04(df), \"f05\": f05(df), \"f06\": f06(df), \"f07\": f07(df), \"f08\": f08(df), \"f09\": f09(df), \"f10\": f10(df), \"f11\": f11(df), \"f12\": f12(df), \"f13\": f13(df)}\n",
    "        df_out = df_out.append(df_file, ignore_index=True)\n",
    "    \n",
    "df_out[\"letter\"] = df_out.sketch.apply(lambda x: x[0])\n",
    "df_out[\"number\"] = df_out.sketch.apply(lambda x: int(x[2:]))\n",
    "df_out = df_out.sort_values(by=[\"letter\", \"number\"])\n",
    "\n",
    "df_out = df_out.drop([\"letter\", \"number\"], axis=1)\n",
    "\n",
    "df_out.to_csv(\"../results/features.csv\", index=False)\n"
   ]
  }
 ],
 "metadata": {
  "kernelspec": {
   "display_name": "Python 3.8.9 64-bit",
   "language": "python",
   "name": "python3"
  },
  "language_info": {
   "codemirror_mode": {
    "name": "ipython",
    "version": 3
   },
   "file_extension": ".py",
   "mimetype": "text/x-python",
   "name": "python",
   "nbconvert_exporter": "python",
   "pygments_lexer": "ipython3",
   "version": "3.8.9"
  },
  "orig_nbformat": 4,
  "vscode": {
   "interpreter": {
    "hash": "31f2aee4e71d21fbe5cf8b01ff0e069b9275f58929596ceb00d14d90e3e16cd6"
   }
  }
 },
 "nbformat": 4,
 "nbformat_minor": 2
}
